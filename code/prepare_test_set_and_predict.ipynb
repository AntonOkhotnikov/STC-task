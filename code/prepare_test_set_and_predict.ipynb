{
 "cells": [
  {
   "cell_type": "code",
   "execution_count": 1,
   "metadata": {},
   "outputs": [
    {
     "name": "stderr",
     "output_type": "stream",
     "text": [
      "Using TensorFlow backend.\n"
     ]
    }
   ],
   "source": [
    "import pandas as pd\n",
    "import numpy as np\n",
    "import os\n",
    "import math\n",
    "from scipy.io import wavfile\n",
    "import matplotlib.pyplot as plt\n",
    "import python_speech_features as psf\n",
    "import h5py\n",
    "from keras.models import load_model"
   ]
  },
  {
   "cell_type": "code",
   "execution_count": 2,
   "metadata": {},
   "outputs": [],
   "source": [
    "path = os.getcwd()\n",
    "temp = path.split('/')\n",
    "temp.pop(-1)\n",
    "temp.pop(-1)\n",
    "path = '/'.join(temp)\n",
    "path += '/data_v_7_stc/test/'"
   ]
  },
  {
   "cell_type": "code",
   "execution_count": 3,
   "metadata": {},
   "outputs": [
    {
     "name": "stdout",
     "output_type": "stream",
     "text": [
      "(610, 1)\n"
     ]
    },
    {
     "data": {
      "text/html": [
       "<div>\n",
       "<style scoped>\n",
       "    .dataframe tbody tr th:only-of-type {\n",
       "        vertical-align: middle;\n",
       "    }\n",
       "\n",
       "    .dataframe tbody tr th {\n",
       "        vertical-align: top;\n",
       "    }\n",
       "\n",
       "    .dataframe thead th {\n",
       "        text-align: right;\n",
       "    }\n",
       "</style>\n",
       "<table border=\"1\" class=\"dataframe\">\n",
       "  <thead>\n",
       "    <tr style=\"text-align: right;\">\n",
       "      <th></th>\n",
       "      <th>filename</th>\n",
       "    </tr>\n",
       "  </thead>\n",
       "  <tbody>\n",
       "    <tr>\n",
       "      <th>0</th>\n",
       "      <td>speech_0100.wav</td>\n",
       "    </tr>\n",
       "    <tr>\n",
       "      <th>1</th>\n",
       "      <td>speech_t_0013.wav</td>\n",
       "    </tr>\n",
       "  </tbody>\n",
       "</table>\n",
       "</div>"
      ],
      "text/plain": [
       "            filename\n",
       "0    speech_0100.wav\n",
       "1  speech_t_0013.wav"
      ]
     },
     "execution_count": 3,
     "metadata": {},
     "output_type": "execute_result"
    }
   ],
   "source": [
    "for root, dirnames, filenames in os.walk(path):\n",
    "    test = pd.DataFrame(filenames, columns=['filename'])\n",
    "print(test.shape)\n",
    "test.head(2)"
   ]
  },
  {
   "cell_type": "markdown",
   "metadata": {},
   "source": [
    "### Load files"
   ]
  },
  {
   "cell_type": "code",
   "execution_count": 4,
   "metadata": {},
   "outputs": [],
   "source": [
    "def make_fv(record):\n",
    "    # load file\n",
    "    fs, data = wavfile.read(path + record)\n",
    "    # create features\n",
    "    mfcc = psf.mfcc(data, samplerate=fs, nfft=1024, nfilt=26, numcep=13)\n",
    "    filelength = len(data) / fs\n",
    "    return (mfcc, filelength)\n",
    "\n",
    "test['features'] = test.filename.apply(lambda x: make_fv(x))\n",
    "tmp = test.features.apply(pd.Series)\n",
    "test['features'] = tmp[0]\n",
    "test['length'] = tmp[1]"
   ]
  },
  {
   "cell_type": "markdown",
   "metadata": {},
   "source": [
    "### Cut audiofiles to 6 seconds"
   ]
  },
  {
   "cell_type": "code",
   "execution_count": 6,
   "metadata": {},
   "outputs": [],
   "source": [
    "maxlen = 6  # in seconds\n",
    "\n",
    "def cut_large(record):\n",
    "    global maxlen\n",
    "    if record.length < maxlen:\n",
    "        res = pd.DataFrame([(record.filename, record.features)], columns=['filename', 'features'])\n",
    "        return res\n",
    "    \n",
    "    n_rows = math.ceil(record.length / maxlen)\n",
    "    df = pd.DataFrame(columns=['filename', 'features'])\n",
    "    \n",
    "    list_of_arrays = np.array_split(record.features, n_rows, axis=0)\n",
    "    for array in list_of_arrays:\n",
    "        df = df.append({'filename': record.filename, 'features': array}, ignore_index=True)\n",
    "    \n",
    "    return df\n",
    "\n",
    "list_of_frames = test.apply(lambda x: cut_large(x), axis=1)\n",
    "cutted = pd.concat(list(list_of_frames))\n",
    "cutted = cutted.reset_index(drop=True)"
   ]
  },
  {
   "cell_type": "markdown",
   "metadata": {},
   "source": [
    "### Prepare testing data"
   ]
  },
  {
   "cell_type": "code",
   "execution_count": 7,
   "metadata": {},
   "outputs": [
    {
     "name": "stdout",
     "output_type": "stream",
     "text": [
      "Vectors are padded\n",
      "922 test sequences\n"
     ]
    },
    {
     "data": {
      "text/plain": [
       "(922, 600, 13)"
      ]
     },
     "execution_count": 7,
     "metadata": {},
     "output_type": "execute_result"
    }
   ],
   "source": [
    "X_test = cutted.features\n",
    "\n",
    "# add zeros at the end\n",
    "def equalize(array, maxlen, n_features):\n",
    "    length = array.shape[0]\n",
    "    if length < maxlen:\n",
    "        additional = np.array([[0 for i in range(n_features)] for j in range(maxlen - length)])\n",
    "        res = np.concatenate([array, additional])\n",
    "        return res\n",
    "    return array\n",
    "\n",
    "# pad sequence\n",
    "def pad_row(series):\n",
    "    length = max(series.apply(lambda x: len(x))) + 1\n",
    "    n_features = series[0].shape[1]\n",
    "    result = series.apply(lambda x: equalize(x, length, n_features))\n",
    "    return result\n",
    "\n",
    "tmp = pad_row(X_test)\n",
    "X_test = np.stack(tmp.values)\n",
    "\n",
    "print('Vectors are padded')\n",
    "\n",
    "print(len(X_test), 'test sequences')\n",
    "X_test.shape"
   ]
  },
  {
   "cell_type": "markdown",
   "metadata": {},
   "source": [
    "### Save dataset"
   ]
  },
  {
   "cell_type": "code",
   "execution_count": 8,
   "metadata": {},
   "outputs": [],
   "source": [
    "h5f = h5py.File('test.h5', 'w')\n",
    "h5f.create_dataset('test', data=X_test)\n",
    "h5f.close()"
   ]
  },
  {
   "cell_type": "markdown",
   "metadata": {},
   "source": [
    "### Load LSTM model"
   ]
  },
  {
   "cell_type": "code",
   "execution_count": 9,
   "metadata": {},
   "outputs": [],
   "source": [
    "model = load_model('bidirLSTM.h5')"
   ]
  },
  {
   "cell_type": "markdown",
   "metadata": {},
   "source": [
    "### Predict values on the testing set"
   ]
  },
  {
   "cell_type": "code",
   "execution_count": 10,
   "metadata": {},
   "outputs": [
    {
     "data": {
      "text/plain": [
       "(922, 600, 13)"
      ]
     },
     "execution_count": 10,
     "metadata": {},
     "output_type": "execute_result"
    }
   ],
   "source": [
    "labels = ['background', 'bags', 'door', 'keyboard', 'knocking_door', 'ring', 'speech', 'tool']\n",
    "X_test.shape"
   ]
  },
  {
   "cell_type": "code",
   "execution_count": 11,
   "metadata": {},
   "outputs": [],
   "source": [
    "Y_pred = model.predict(X_test)\n",
    "final = pd.concat([cutted, pd.DataFrame(Y_pred, columns=labels)], axis=1)"
   ]
  },
  {
   "cell_type": "markdown",
   "metadata": {},
   "source": [
    "### Max-pool the prediction for a file"
   ]
  },
  {
   "cell_type": "code",
   "execution_count": 12,
   "metadata": {},
   "outputs": [],
   "source": [
    "# drop features\n",
    "for_grouping = final.drop('features', axis=1)\n",
    "grouped = for_grouping.groupby('filename')\n",
    "\n",
    "def pop_rows():\n",
    "    global labels\n",
    "    for filename, table in grouped:\n",
    "        table = table.drop('filename', axis=1)\n",
    "        \n",
    "        max_score = np.max(table.values)\n",
    "        n_max_label = np.argmax(np.asarray(table.values), axis=None)\n",
    "        max_label = labels[n_max_label % 8]\n",
    "        \n",
    "#         print('max score:', max_score)\n",
    "#         print('position:', max_label % 8)\n",
    "#         print('max label:', max_label)\n",
    "\n",
    "        yield {'filename': filename, 'score': max_score, 'label': max_label}\n",
    "\n",
    "result = pd.DataFrame(pop_rows())\n",
    "result = result.reindex(['filename', 'score', 'label'], axis=1)"
   ]
  },
  {
   "cell_type": "markdown",
   "metadata": {},
   "source": [
    "### Save file"
   ]
  },
  {
   "cell_type": "code",
   "execution_count": 13,
   "metadata": {},
   "outputs": [],
   "source": [
    "path = os.getcwd()\n",
    "temp = path.split('/')\n",
    "temp.pop(-1)\n",
    "path = '/'.join(temp)\n",
    "\n",
    "# pandas save to txt: filename score label\n",
    "result.to_csv(path + r'/result.txt', header=None, index=None, sep='\\t')"
   ]
  },
  {
   "cell_type": "code",
   "execution_count": null,
   "metadata": {},
   "outputs": [],
   "source": []
  }
 ],
 "metadata": {
  "kernelspec": {
   "display_name": "Python 3",
   "language": "python",
   "name": "python3"
  },
  "language_info": {
   "codemirror_mode": {
    "name": "ipython",
    "version": 3
   },
   "file_extension": ".py",
   "mimetype": "text/x-python",
   "name": "python",
   "nbconvert_exporter": "python",
   "pygments_lexer": "ipython3",
   "version": "3.6.3"
  }
 },
 "nbformat": 4,
 "nbformat_minor": 2
}
