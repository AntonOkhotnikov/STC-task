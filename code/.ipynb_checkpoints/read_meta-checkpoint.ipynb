{
 "cells": [
  {
   "cell_type": "code",
   "execution_count": 43,
   "metadata": {},
   "outputs": [],
   "source": [
    "import pandas as pd\n",
    "import numpy as np\n",
    "import os\n",
    "from scipy.io import wavfile\n",
    "import matplotlib.pyplot as plt\n",
    "import python_speech_features as psf"
   ]
  },
  {
   "cell_type": "code",
   "execution_count": 7,
   "metadata": {},
   "outputs": [],
   "source": [
    "path = os.getcwd()\n",
    "temp = path.split('/')\n",
    "temp.pop(-1)\n",
    "temp.pop(-1)  # remove it before the submission\n",
    "temp.pop(-1)  # remove it before the submission\n",
    "path = '/'.join(temp)\n",
    "filename = '/data_v_7_stc/meta/meta.txt'"
   ]
  },
  {
   "cell_type": "markdown",
   "metadata": {},
   "source": [
    "### Read meta file"
   ]
  },
  {
   "cell_type": "code",
   "execution_count": 88,
   "metadata": {
    "scrolled": true
   },
   "outputs": [
    {
     "data": {
      "text/html": [
       "<div>\n",
       "<style scoped>\n",
       "    .dataframe tbody tr th:only-of-type {\n",
       "        vertical-align: middle;\n",
       "    }\n",
       "\n",
       "    .dataframe tbody tr th {\n",
       "        vertical-align: top;\n",
       "    }\n",
       "\n",
       "    .dataframe thead th {\n",
       "        text-align: right;\n",
       "    }\n",
       "</style>\n",
       "<table border=\"1\" class=\"dataframe\">\n",
       "  <thead>\n",
       "    <tr style=\"text-align: right;\">\n",
       "      <th></th>\n",
       "      <th>filename</th>\n",
       "      <th>where</th>\n",
       "      <th>something</th>\n",
       "      <th>length</th>\n",
       "      <th>label</th>\n",
       "    </tr>\n",
       "  </thead>\n",
       "  <tbody>\n",
       "    <tr>\n",
       "      <th>0</th>\n",
       "      <td>background_0001.wav</td>\n",
       "      <td>office</td>\n",
       "      <td>0</td>\n",
       "      <td>9.458500</td>\n",
       "      <td>background</td>\n",
       "    </tr>\n",
       "    <tr>\n",
       "      <th>1</th>\n",
       "      <td>background_0001_time_stretch_0.wav</td>\n",
       "      <td>office</td>\n",
       "      <td>0</td>\n",
       "      <td>9.989070</td>\n",
       "      <td>background</td>\n",
       "    </tr>\n",
       "    <tr>\n",
       "      <th>2</th>\n",
       "      <td>background_0001_time_stretch_1.wav</td>\n",
       "      <td>office</td>\n",
       "      <td>0</td>\n",
       "      <td>9.879410</td>\n",
       "      <td>background</td>\n",
       "    </tr>\n",
       "    <tr>\n",
       "      <th>3</th>\n",
       "      <td>background_0001_time_stretch_10.wav</td>\n",
       "      <td>office</td>\n",
       "      <td>0</td>\n",
       "      <td>11.156553</td>\n",
       "      <td>background</td>\n",
       "    </tr>\n",
       "    <tr>\n",
       "      <th>4</th>\n",
       "      <td>background_0001_time_stretch_11.wav</td>\n",
       "      <td>office</td>\n",
       "      <td>0</td>\n",
       "      <td>13.261587</td>\n",
       "      <td>background</td>\n",
       "    </tr>\n",
       "    <tr>\n",
       "      <th>5</th>\n",
       "      <td>background_0001_time_stretch_12.wav</td>\n",
       "      <td>office</td>\n",
       "      <td>0</td>\n",
       "      <td>9.186440</td>\n",
       "      <td>background</td>\n",
       "    </tr>\n",
       "    <tr>\n",
       "      <th>6</th>\n",
       "      <td>background_0001_time_stretch_13.wav</td>\n",
       "      <td>office</td>\n",
       "      <td>0</td>\n",
       "      <td>8.117642</td>\n",
       "      <td>background</td>\n",
       "    </tr>\n",
       "    <tr>\n",
       "      <th>7</th>\n",
       "      <td>background_0001_time_stretch_2.wav</td>\n",
       "      <td>office</td>\n",
       "      <td>0</td>\n",
       "      <td>12.337098</td>\n",
       "      <td>background</td>\n",
       "    </tr>\n",
       "    <tr>\n",
       "      <th>8</th>\n",
       "      <td>background_0001_time_stretch_3.wav</td>\n",
       "      <td>office</td>\n",
       "      <td>0</td>\n",
       "      <td>12.455147</td>\n",
       "      <td>background</td>\n",
       "    </tr>\n",
       "    <tr>\n",
       "      <th>9</th>\n",
       "      <td>background_0001_time_stretch_4.wav</td>\n",
       "      <td>office</td>\n",
       "      <td>0</td>\n",
       "      <td>7.765306</td>\n",
       "      <td>background</td>\n",
       "    </tr>\n",
       "    <tr>\n",
       "      <th>10</th>\n",
       "      <td>background_0001_time_stretch_5.wav</td>\n",
       "      <td>office</td>\n",
       "      <td>0</td>\n",
       "      <td>10.593968</td>\n",
       "      <td>background</td>\n",
       "    </tr>\n",
       "    <tr>\n",
       "      <th>11</th>\n",
       "      <td>background_0001_time_stretch_6.wav</td>\n",
       "      <td>office</td>\n",
       "      <td>0</td>\n",
       "      <td>13.219456</td>\n",
       "      <td>background</td>\n",
       "    </tr>\n",
       "    <tr>\n",
       "      <th>12</th>\n",
       "      <td>background_0001_time_stretch_7.wav</td>\n",
       "      <td>office</td>\n",
       "      <td>0</td>\n",
       "      <td>8.307075</td>\n",
       "      <td>background</td>\n",
       "    </tr>\n",
       "    <tr>\n",
       "      <th>13</th>\n",
       "      <td>background_0001_time_stretch_8.wav</td>\n",
       "      <td>office</td>\n",
       "      <td>0</td>\n",
       "      <td>8.709161</td>\n",
       "      <td>background</td>\n",
       "    </tr>\n",
       "    <tr>\n",
       "      <th>14</th>\n",
       "      <td>background_0001_time_stretch_9.wav</td>\n",
       "      <td>office</td>\n",
       "      <td>0</td>\n",
       "      <td>7.928299</td>\n",
       "      <td>background</td>\n",
       "    </tr>\n",
       "    <tr>\n",
       "      <th>15</th>\n",
       "      <td>background_0002.wav</td>\n",
       "      <td>office</td>\n",
       "      <td>0</td>\n",
       "      <td>5.614500</td>\n",
       "      <td>background</td>\n",
       "    </tr>\n",
       "    <tr>\n",
       "      <th>16</th>\n",
       "      <td>background_0002_time_stretch_0.wav</td>\n",
       "      <td>office</td>\n",
       "      <td>0</td>\n",
       "      <td>5.359773</td>\n",
       "      <td>background</td>\n",
       "    </tr>\n",
       "    <tr>\n",
       "      <th>17</th>\n",
       "      <td>background_0002_time_stretch_1.wav</td>\n",
       "      <td>office</td>\n",
       "      <td>0</td>\n",
       "      <td>5.043492</td>\n",
       "      <td>background</td>\n",
       "    </tr>\n",
       "    <tr>\n",
       "      <th>18</th>\n",
       "      <td>background_0002_time_stretch_10.wav</td>\n",
       "      <td>office</td>\n",
       "      <td>0</td>\n",
       "      <td>6.249887</td>\n",
       "      <td>background</td>\n",
       "    </tr>\n",
       "    <tr>\n",
       "      <th>19</th>\n",
       "      <td>background_0002_time_stretch_11.wav</td>\n",
       "      <td>office</td>\n",
       "      <td>0</td>\n",
       "      <td>4.546395</td>\n",
       "      <td>background</td>\n",
       "    </tr>\n",
       "  </tbody>\n",
       "</table>\n",
       "</div>"
      ],
      "text/plain": [
       "                               filename   where  something     length  \\\n",
       "0                   background_0001.wav  office          0   9.458500   \n",
       "1    background_0001_time_stretch_0.wav  office          0   9.989070   \n",
       "2    background_0001_time_stretch_1.wav  office          0   9.879410   \n",
       "3   background_0001_time_stretch_10.wav  office          0  11.156553   \n",
       "4   background_0001_time_stretch_11.wav  office          0  13.261587   \n",
       "5   background_0001_time_stretch_12.wav  office          0   9.186440   \n",
       "6   background_0001_time_stretch_13.wav  office          0   8.117642   \n",
       "7    background_0001_time_stretch_2.wav  office          0  12.337098   \n",
       "8    background_0001_time_stretch_3.wav  office          0  12.455147   \n",
       "9    background_0001_time_stretch_4.wav  office          0   7.765306   \n",
       "10   background_0001_time_stretch_5.wav  office          0  10.593968   \n",
       "11   background_0001_time_stretch_6.wav  office          0  13.219456   \n",
       "12   background_0001_time_stretch_7.wav  office          0   8.307075   \n",
       "13   background_0001_time_stretch_8.wav  office          0   8.709161   \n",
       "14   background_0001_time_stretch_9.wav  office          0   7.928299   \n",
       "15                  background_0002.wav  office          0   5.614500   \n",
       "16   background_0002_time_stretch_0.wav  office          0   5.359773   \n",
       "17   background_0002_time_stretch_1.wav  office          0   5.043492   \n",
       "18  background_0002_time_stretch_10.wav  office          0   6.249887   \n",
       "19  background_0002_time_stretch_11.wav  office          0   4.546395   \n",
       "\n",
       "         label  \n",
       "0   background  \n",
       "1   background  \n",
       "2   background  \n",
       "3   background  \n",
       "4   background  \n",
       "5   background  \n",
       "6   background  \n",
       "7   background  \n",
       "8   background  \n",
       "9   background  \n",
       "10  background  \n",
       "11  background  \n",
       "12  background  \n",
       "13  background  \n",
       "14  background  \n",
       "15  background  \n",
       "16  background  \n",
       "17  background  \n",
       "18  background  \n",
       "19  background  "
      ]
     },
     "execution_count": 88,
     "metadata": {},
     "output_type": "execute_result"
    }
   ],
   "source": [
    "meta = pd.read_csv(path + filename, sep=\"\\t\", header=None)\n",
    "meta.columns = [\"filename\", \"where\", \"something\", \"length\", \"label\"]\n",
    "meta.head(20)"
   ]
  },
  {
   "cell_type": "code",
   "execution_count": 9,
   "metadata": {},
   "outputs": [
    {
     "name": "stdout",
     "output_type": "stream",
     "text": [
      "['background' 'bags' 'door' 'keyboard' 'knocking_door' 'ring' 'speech'\n",
      " 'tool'] 8\n"
     ]
    },
    {
     "data": {
      "text/plain": [
       "713"
      ]
     },
     "execution_count": 9,
     "metadata": {},
     "output_type": "execute_result"
    }
   ],
   "source": [
    "print(meta[\"label\"].unique(), meta[\"label\"].nunique())\n",
    "# meta[\"label\"].isnull().sum()\n",
    "meta[\"label\"][meta[\"label\"] == 'ring'].count()\n",
    "# door = 3416\n",
    "# ring = 713\n",
    "# speech = 276"
   ]
  },
  {
   "cell_type": "markdown",
   "metadata": {},
   "source": [
    "### Open file"
   ]
  },
  {
   "cell_type": "code",
   "execution_count": 97,
   "metadata": {},
   "outputs": [
    {
     "name": "stdout",
     "output_type": "stream",
     "text": [
      "22050.0\n",
      "22050\n"
     ]
    }
   ],
   "source": [
    "fs, data = wavfile.read(path + '/data_v_7_stc/audio/' + meta[\"filename\"].loc[11])\n",
    "\n",
    "print(len(data) / meta.length.loc[11])\n",
    "# meta[\"filename\"].loc[2]\n",
    "print(fs)"
   ]
  },
  {
   "cell_type": "code",
   "execution_count": 98,
   "metadata": {},
   "outputs": [
    {
     "data": {
      "text/plain": [
       "<function matplotlib.pyplot.show(*args, **kw)>"
      ]
     },
     "execution_count": 98,
     "metadata": {},
     "output_type": "execute_result"
    },
    {
     "data": {
      "image/png": "[encoded data removed]",
      "text/plain": [
       "<Figure size 432x288 with 1 Axes>"
      ]
     },
     "metadata": {},
     "output_type": "display_data"
    }
   ],
   "source": [
    "plt.plot(data)\n",
    "plt.show"
   ]
  },
  {
   "cell_type": "code",
   "execution_count": 100,
   "metadata": {},
   "outputs": [],
   "source": [
    "def pick_n_each(df, n, shuffle):\n",
    "    df = df.sample(frac=1).reset_index(drop=True)\n",
    "    res = pd.DataFrame(columns=df.columns)\n",
    "    for label in df[\"label\"].unique():\n",
    "        res = res.append(df[df.label == label].iloc[0:n])\n",
    "    if shuffle:\n",
    "        return res.sample(frac=1).reset_index(drop=True)\n",
    "    return res"
   ]
  },
  {
   "cell_type": "code",
   "execution_count": 132,
   "metadata": {
    "scrolled": true
   },
   "outputs": [],
   "source": [
    "small = pick_n_each(meta, 5, True)"
   ]
  },
  {
   "cell_type": "markdown",
   "metadata": {},
   "source": [
    "### Create feature vectors"
   ]
  },
  {
   "cell_type": "code",
   "execution_count": 127,
   "metadata": {},
   "outputs": [
    {
     "name": "stdout",
     "output_type": "stream",
     "text": [
      "MFCC shape: (1318, 20)\n",
      "Logfbank shape: (1318, 40)\n"
     ]
    }
   ],
   "source": [
    "# two types of features - mfcc or logfbank\n",
    "mfcc = psf.mfcc(data, samplerate=fs, nfft=1024, nfilt=40, numcep=20)\n",
    "logfbank = psf.logfbank(data, samplerate=fs, nfft=1024, nfilt=40)\n",
    "\n",
    "# normalize\n",
    "mfcc -= (np.mean(mfcc, axis=0) + 1e-8)\n",
    "logfbank -= (np.mean(logfbank, axis=0) + 1e-8)\n",
    "\n",
    "print('MFCC shape:', mfcc.shape)\n",
    "print('Logfbank shape:', logfbank.shape)"
   ]
  },
  {
   "cell_type": "code",
   "execution_count": 131,
   "metadata": {},
   "outputs": [
    {
     "data": {
      "text/plain": [
       "<function matplotlib.pyplot.show(*args, **kw)>"
      ]
     },
     "execution_count": 131,
     "metadata": {},
     "output_type": "execute_result"
    },
    {
     "data": {
      "image/png": "[encoded data removed]",
      "text/plain": [
       "<Figure size 432x288 with 1 Axes>"
      ]
     },
     "metadata": {},
     "output_type": "display_data"
    }
   ],
   "source": [
    "plt.plot(mfcc[:, 1])\n",
    "plt.show"
   ]
  },
  {
   "cell_type": "code",
   "execution_count": 135,
   "metadata": {},
   "outputs": [
    {
     "data": {
      "text/html": [
       "<div>\n",
       "<style scoped>\n",
       "    .dataframe tbody tr th:only-of-type {\n",
       "        vertical-align: middle;\n",
       "    }\n",
       "\n",
       "    .dataframe tbody tr th {\n",
       "        vertical-align: top;\n",
       "    }\n",
       "\n",
       "    .dataframe thead th {\n",
       "        text-align: right;\n",
       "    }\n",
       "</style>\n",
       "<table border=\"1\" class=\"dataframe\">\n",
       "  <thead>\n",
       "    <tr style=\"text-align: right;\">\n",
       "      <th></th>\n",
       "      <th>filename</th>\n",
       "      <th>where</th>\n",
       "      <th>something</th>\n",
       "      <th>length</th>\n",
       "      <th>label</th>\n",
       "    </tr>\n",
       "  </thead>\n",
       "  <tbody>\n",
       "    <tr>\n",
       "      <th>0</th>\n",
       "      <td>background_0028_time_stretch_2.wav</td>\n",
       "      <td>office</td>\n",
       "      <td>0</td>\n",
       "      <td>4.685125</td>\n",
       "      <td>background</td>\n",
       "    </tr>\n",
       "    <tr>\n",
       "      <th>1</th>\n",
       "      <td>tt_kd_0019_time_stretch_2.wav</td>\n",
       "      <td>office</td>\n",
       "      <td>0</td>\n",
       "      <td>8.571066</td>\n",
       "      <td>knocking_door</td>\n",
       "    </tr>\n",
       "    <tr>\n",
       "      <th>2</th>\n",
       "      <td>speech_0027_slice_4.wav</td>\n",
       "      <td>office</td>\n",
       "      <td>0</td>\n",
       "      <td>60.000000</td>\n",
       "      <td>speech</td>\n",
       "    </tr>\n",
       "    <tr>\n",
       "      <th>3</th>\n",
       "      <td>bg_0080_time_stretch_1.wav</td>\n",
       "      <td>office</td>\n",
       "      <td>0</td>\n",
       "      <td>1.898639</td>\n",
       "      <td>bags</td>\n",
       "    </tr>\n",
       "    <tr>\n",
       "      <th>4</th>\n",
       "      <td>tool_1272.wav</td>\n",
       "      <td>office</td>\n",
       "      <td>0</td>\n",
       "      <td>4.000000</td>\n",
       "      <td>tool</td>\n",
       "    </tr>\n",
       "  </tbody>\n",
       "</table>\n",
       "</div>"
      ],
      "text/plain": [
       "                             filename   where something     length  \\\n",
       "0  background_0028_time_stretch_2.wav  office         0   4.685125   \n",
       "1       tt_kd_0019_time_stretch_2.wav  office         0   8.571066   \n",
       "2             speech_0027_slice_4.wav  office         0  60.000000   \n",
       "3          bg_0080_time_stretch_1.wav  office         0   1.898639   \n",
       "4                       tool_1272.wav  office         0   4.000000   \n",
       "\n",
       "           label  \n",
       "0     background  \n",
       "1  knocking_door  \n",
       "2         speech  \n",
       "3           bags  \n",
       "4           tool  "
      ]
     },
     "execution_count": 135,
     "metadata": {},
     "output_type": "execute_result"
    }
   ],
   "source": [
    "def make_fv(record):\n",
    "    \n",
    "    \n",
    "\n",
    "small.apply(lambda x: make_fv(x))"
   ]
  },
  {
   "cell_type": "code",
   "execution_count": null,
   "metadata": {},
   "outputs": [],
   "source": []
  },
  {
   "cell_type": "markdown",
   "metadata": {},
   "source": [
    "### Build an LSTM-classifier"
   ]
  },
  {
   "cell_type": "code",
   "execution_count": null,
   "metadata": {},
   "outputs": [],
   "source": [
    "from keras.optimizers import SGD\n",
    "np.random.seed(14)\n",
    "from keras.utils import np_utils\n",
    "from keras.models import Sequential\n",
    "from keras.layers.core import Dense, Activation\n",
    "from keras.layers.recurrent import LSTM\n",
    "# from SpeechResearch import loadData\n",
    "\n",
    "# 'exception_verbosity = high'\n",
    "batch_size = 5\n",
    "hidden_units = 20\n",
    "nb_classes = 8\n",
    "# print('Loading data...')\n",
    "# (X_train, y_train), (X_test, y_test) = loadData.load_mfcc(10, 2)\n",
    "(X_train, Y_train) = mfcc\n",
    "\n",
    "print(len(X_train), 'train sequences')\n",
    "print(len(X_test), 'test sequences')\n",
    "print('X_train shape:', X_train.shape)\n",
    "print('y_train shape:', Y_train.shape)\n",
    "print('Build model...')\n",
    "\n",
    "Y_train = np_utils.to_categorical(Y_train, nb_classes)\n",
    "\n",
    "model = Sequential()\n",
    "model.add(LSTM(output_dim=hidden_units, init='uniform', inner_init='uniform',\n",
    "               forget_bias_init='one', activation='tanh', inner_activation='sigmoid', input_shape=X_train.shape[1:]))\n",
    "\n",
    "model.add(Dense(nb_classes))\n",
    "model.add(Activation('softmax'))\n",
    "\n",
    "sgd = SGD(lr=0.1, decay=1e-6, momentum=0.9, nesterov=True)\n",
    "model.compile(loss='categorical_crossentropy', optimizer=sgd)\n",
    "\n",
    "print(\"Train...\")\n",
    "model.fit(X_train, Y_train, batch_size=batch_size, nb_epoch=3, show_accuracy=True)\n",
    "\n",
    "\n",
    "# score, acc = model.evaluate(X_test, y_test,\n",
    "#                             batch_size=batch_size,\n",
    "#                             show_accuracy=True)\n",
    "# print('Test score:', score)\n",
    "# print('Test accuracy:', acc)"
   ]
  }
 ],
 "metadata": {
  "kernelspec": {
   "display_name": "Python 3",
   "language": "python",
   "name": "python3"
  },
  "language_info": {
   "codemirror_mode": {
    "name": "ipython",
    "version": 3
   },
   "file_extension": ".py",
   "mimetype": "text/x-python",
   "name": "python",
   "nbconvert_exporter": "python",
   "pygments_lexer": "ipython3",
   "version": "3.6.5"
  }
 },
 "nbformat": 4,
 "nbformat_minor": 2
}
