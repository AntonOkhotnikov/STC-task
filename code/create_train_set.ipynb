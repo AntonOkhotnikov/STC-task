{
 "cells": [
  {
   "cell_type": "code",
   "execution_count": 1,
   "metadata": {},
   "outputs": [],
   "source": [
    "import pandas as pd\n",
    "import numpy as np\n",
    "import os\n",
    "import math\n",
    "from scipy.io import wavfile\n",
    "import matplotlib.pyplot as plt\n",
    "import python_speech_features as psf\n",
    "import h5py"
   ]
  },
  {
   "cell_type": "code",
   "execution_count": 2,
   "metadata": {},
   "outputs": [],
   "source": [
    "path = os.getcwd()\n",
    "temp = path.split('/')\n",
    "temp.pop(-1)\n",
    "temp.pop(-1)\n",
    "path = '/'.join(temp)\n",
    "filename = '/data_v_7_stc/meta/meta.txt'"
   ]
  },
  {
   "cell_type": "markdown",
   "metadata": {},
   "source": [
    "### Read meta file"
   ]
  },
  {
   "cell_type": "code",
   "execution_count": 3,
   "metadata": {
    "scrolled": true
   },
   "outputs": [
    {
     "name": "stdout",
     "output_type": "stream",
     "text": [
      "(11307, 5)\n"
     ]
    },
    {
     "data": {
      "text/html": [
       "<div>\n",
       "<style scoped>\n",
       "    .dataframe tbody tr th:only-of-type {\n",
       "        vertical-align: middle;\n",
       "    }\n",
       "\n",
       "    .dataframe tbody tr th {\n",
       "        vertical-align: top;\n",
       "    }\n",
       "\n",
       "    .dataframe thead th {\n",
       "        text-align: right;\n",
       "    }\n",
       "</style>\n",
       "<table border=\"1\" class=\"dataframe\">\n",
       "  <thead>\n",
       "    <tr style=\"text-align: right;\">\n",
       "      <th></th>\n",
       "      <th>filename</th>\n",
       "      <th>where</th>\n",
       "      <th>something</th>\n",
       "      <th>length</th>\n",
       "      <th>label</th>\n",
       "    </tr>\n",
       "  </thead>\n",
       "  <tbody>\n",
       "    <tr>\n",
       "      <th>0</th>\n",
       "      <td>background_0001.wav</td>\n",
       "      <td>office</td>\n",
       "      <td>0</td>\n",
       "      <td>9.45850</td>\n",
       "      <td>background</td>\n",
       "    </tr>\n",
       "    <tr>\n",
       "      <th>1</th>\n",
       "      <td>background_0001_time_stretch_0.wav</td>\n",
       "      <td>office</td>\n",
       "      <td>0</td>\n",
       "      <td>9.98907</td>\n",
       "      <td>background</td>\n",
       "    </tr>\n",
       "  </tbody>\n",
       "</table>\n",
       "</div>"
      ],
      "text/plain": [
       "                             filename   where  something   length       label\n",
       "0                 background_0001.wav  office          0  9.45850  background\n",
       "1  background_0001_time_stretch_0.wav  office          0  9.98907  background"
      ]
     },
     "execution_count": 3,
     "metadata": {},
     "output_type": "execute_result"
    }
   ],
   "source": [
    "meta = pd.read_csv(path + filename, sep=\"\\t\", header=None)\n",
    "meta.columns = [\"filename\", \"where\", \"something\", \"length\", \"label\"]\n",
    "print(meta.shape)\n",
    "meta.head(2)"
   ]
  },
  {
   "cell_type": "code",
   "execution_count": 4,
   "metadata": {},
   "outputs": [
    {
     "name": "stdout",
     "output_type": "stream",
     "text": [
      "['background' 'bags' 'door' 'keyboard' 'knocking_door' 'ring' 'speech'\n",
      " 'tool'] 8\n"
     ]
    },
    {
     "data": {
      "text/plain": [
       "11307"
      ]
     },
     "execution_count": 4,
     "metadata": {},
     "output_type": "execute_result"
    }
   ],
   "source": [
    "print(meta[\"label\"].unique(), meta[\"label\"].nunique())\n",
    "meta.shape[0]"
   ]
  },
  {
   "cell_type": "markdown",
   "metadata": {},
   "source": [
    "### Read one file"
   ]
  },
  {
   "cell_type": "code",
   "execution_count": 5,
   "metadata": {},
   "outputs": [
    {
     "name": "stdout",
     "output_type": "stream",
     "text": [
      "14526.846124567788\n",
      "22050\n"
     ]
    }
   ],
   "source": [
    "fs, data = wavfile.read(path + '/data_v_7_stc/audio/' + meta[\"filename\"].loc[13])\n",
    "\n",
    "print(len(data) / meta.length.loc[11])\n",
    "# meta[\"filename\"].loc[2]\n",
    "print(fs)"
   ]
  },
  {
   "cell_type": "code",
   "execution_count": 6,
   "metadata": {},
   "outputs": [
    {
     "data": {
      "text/plain": [
       "<function matplotlib.pyplot.show(*args, **kw)>"
      ]
     },
     "execution_count": 6,
     "metadata": {},
     "output_type": "execute_result"
    },
    {
     "data": {
      "image/png": "[encoded data removed]",
      "text/plain": [
       "<Figure size 432x288 with 1 Axes>"
      ]
     },
     "metadata": {},
     "output_type": "display_data"
    }
   ],
   "source": [
    "plt.plot(data)\n",
    "plt.show"
   ]
  },
  {
   "cell_type": "markdown",
   "metadata": {},
   "source": [
    "### Create feature vectors"
   ]
  },
  {
   "cell_type": "code",
   "execution_count": 7,
   "metadata": {},
   "outputs": [
    {
     "name": "stdout",
     "output_type": "stream",
     "text": [
      "MFCC shape: (868, 20)\n",
      "Logfbank shape: (868, 40)\n"
     ]
    }
   ],
   "source": [
    "# two types of features - mfcc or logfbank\n",
    "# example for one file\n",
    "mfcc = psf.mfcc(data, samplerate=fs, nfft=1024, nfilt=40, numcep=20)\n",
    "logfbank = psf.logfbank(data, samplerate=fs, nfft=1024, nfilt=40)\n",
    "\n",
    "print('MFCC shape:', mfcc.shape)\n",
    "print('Logfbank shape:', logfbank.shape)"
   ]
  },
  {
   "cell_type": "code",
   "execution_count": 8,
   "metadata": {},
   "outputs": [
    {
     "data": {
      "text/plain": [
       "<function matplotlib.pyplot.show(*args, **kw)>"
      ]
     },
     "execution_count": 8,
     "metadata": {},
     "output_type": "execute_result"
    },
    {
     "data": {
      "image/png": "[encoded data removed]",
      "text/plain": [
       "<Figure size 432x288 with 1 Axes>"
      ]
     },
     "metadata": {},
     "output_type": "display_data"
    }
   ],
   "source": [
    "plt.plot(mfcc[:, 0])\n",
    "plt.show"
   ]
  },
  {
   "cell_type": "code",
   "execution_count": 9,
   "metadata": {
    "scrolled": true
   },
   "outputs": [
    {
     "data": {
      "text/html": [
       "<div>\n",
       "<style scoped>\n",
       "    .dataframe tbody tr th:only-of-type {\n",
       "        vertical-align: middle;\n",
       "    }\n",
       "\n",
       "    .dataframe tbody tr th {\n",
       "        vertical-align: top;\n",
       "    }\n",
       "\n",
       "    .dataframe thead th {\n",
       "        text-align: right;\n",
       "    }\n",
       "</style>\n",
       "<table border=\"1\" class=\"dataframe\">\n",
       "  <thead>\n",
       "    <tr style=\"text-align: right;\">\n",
       "      <th></th>\n",
       "      <th>filename</th>\n",
       "      <th>where</th>\n",
       "      <th>something</th>\n",
       "      <th>length</th>\n",
       "      <th>label</th>\n",
       "      <th>features</th>\n",
       "    </tr>\n",
       "  </thead>\n",
       "  <tbody>\n",
       "    <tr>\n",
       "      <th>0</th>\n",
       "      <td>background_0001.wav</td>\n",
       "      <td>office</td>\n",
       "      <td>0</td>\n",
       "      <td>9.45850</td>\n",
       "      <td>background</td>\n",
       "      <td>[[4.633583646783074, -20.841588444422122, -4.9...</td>\n",
       "    </tr>\n",
       "    <tr>\n",
       "      <th>1</th>\n",
       "      <td>background_0001_time_stretch_0.wav</td>\n",
       "      <td>office</td>\n",
       "      <td>0</td>\n",
       "      <td>9.98907</td>\n",
       "      <td>background</td>\n",
       "      <td>[[5.680634315154357, -21.943469040643794, -6.6...</td>\n",
       "    </tr>\n",
       "  </tbody>\n",
       "</table>\n",
       "</div>"
      ],
      "text/plain": [
       "                             filename   where  something   length       label  \\\n",
       "0                 background_0001.wav  office          0  9.45850  background   \n",
       "1  background_0001_time_stretch_0.wav  office          0  9.98907  background   \n",
       "\n",
       "                                            features  \n",
       "0  [[4.633583646783074, -20.841588444422122, -4.9...  \n",
       "1  [[5.680634315154357, -21.943469040643794, -6.6...  "
      ]
     },
     "execution_count": 9,
     "metadata": {},
     "output_type": "execute_result"
    }
   ],
   "source": [
    "# add a column with a feature vectors\n",
    "def make_fv(record):\n",
    "    # load file\n",
    "    fs, data = wavfile.read(path + '/data_v_7_stc/audio/' + record)\n",
    "    # approximately numcep is fs/2000 ~ (8 for 16 kHz and 11 for 22 kHz)\n",
    "    mfcc = psf.mfcc(data, samplerate=fs, nfft=1024, nfilt=26, numcep=13)\n",
    "#     fbank = psf.logfbank(data, samplerate=fs, nfft=1024, nfilt=13)\n",
    "    return mfcc\n",
    "    \n",
    "meta['features'] = meta.filename.apply(lambda x: make_fv(x))\n",
    "meta.head(2)"
   ]
  },
  {
   "cell_type": "code",
   "execution_count": 10,
   "metadata": {},
   "outputs": [
    {
     "data": {
      "image/png": "[encoded data removed]",
      "text/plain": [
       "<Figure size 432x288 with 1 Axes>"
      ]
     },
     "metadata": {},
     "output_type": "display_data"
    }
   ],
   "source": [
    "plt.hist(meta.length, bins=6, density=True, range=(0, 60))\n",
    "plt.show()"
   ]
  },
  {
   "cell_type": "markdown",
   "metadata": {},
   "source": [
    "### Cut large audiofiles"
   ]
  },
  {
   "cell_type": "code",
   "execution_count": 11,
   "metadata": {
    "scrolled": true
   },
   "outputs": [
    {
     "data": {
      "text/html": [
       "<div>\n",
       "<style scoped>\n",
       "    .dataframe tbody tr th:only-of-type {\n",
       "        vertical-align: middle;\n",
       "    }\n",
       "\n",
       "    .dataframe tbody tr th {\n",
       "        vertical-align: top;\n",
       "    }\n",
       "\n",
       "    .dataframe thead th {\n",
       "        text-align: right;\n",
       "    }\n",
       "</style>\n",
       "<table border=\"1\" class=\"dataframe\">\n",
       "  <thead>\n",
       "    <tr style=\"text-align: right;\">\n",
       "      <th></th>\n",
       "      <th>filename</th>\n",
       "      <th>features</th>\n",
       "      <th>label</th>\n",
       "    </tr>\n",
       "  </thead>\n",
       "  <tbody>\n",
       "    <tr>\n",
       "      <th>0</th>\n",
       "      <td>background_0001.wav</td>\n",
       "      <td>[[4.633583646783074, -20.841588444422122, -4.9...</td>\n",
       "      <td>background</td>\n",
       "    </tr>\n",
       "    <tr>\n",
       "      <th>1</th>\n",
       "      <td>background_0001.wav</td>\n",
       "      <td>[[6.101738010630771, -21.94071074611402, 3.154...</td>\n",
       "      <td>background</td>\n",
       "    </tr>\n",
       "  </tbody>\n",
       "</table>\n",
       "</div>"
      ],
      "text/plain": [
       "              filename                                           features  \\\n",
       "0  background_0001.wav  [[4.633583646783074, -20.841588444422122, -4.9...   \n",
       "1  background_0001.wav  [[6.101738010630771, -21.94071074611402, 3.154...   \n",
       "\n",
       "        label  \n",
       "0  background  \n",
       "1  background  "
      ]
     },
     "execution_count": 11,
     "metadata": {},
     "output_type": "execute_result"
    }
   ],
   "source": [
    "maxlen = 6  # in seconds\n",
    "\n",
    "def cut_large(record):\n",
    "    global maxlen\n",
    "    if record.length < maxlen:\n",
    "        res = pd.DataFrame([(record.filename, record.features, record.label)], columns=['filename', 'features', 'label'])\n",
    "        return res\n",
    "    \n",
    "    n_rows = math.ceil(record.length / maxlen)\n",
    "    df = pd.DataFrame(columns=['filename', 'features', 'label'])\n",
    "    \n",
    "    list_of_arrays = np.array_split(record.features, n_rows, axis=0)\n",
    "    for array in list_of_arrays:\n",
    "        df = df.append({'filename': record.filename, 'features': array, 'label': record.label}, ignore_index=True)\n",
    "    \n",
    "    return df\n",
    "\n",
    "list_of_frames = meta.apply(lambda x: cut_large(x), axis=1)\n",
    "cutted = pd.concat(list(list_of_frames))\n",
    "cutted = cutted.reset_index(drop=True)\n",
    "cutted.head(2)"
   ]
  },
  {
   "cell_type": "markdown",
   "metadata": {},
   "source": [
    "### Prepare training data"
   ]
  },
  {
   "cell_type": "code",
   "execution_count": 12,
   "metadata": {},
   "outputs": [
    {
     "name": "stdout",
     "output_type": "stream",
     "text": [
      "Vectors are padded\n",
      "16241 train sequences\n"
     ]
    }
   ],
   "source": [
    "X_train, Y_train = cutted.features, cutted.label\n",
    "\n",
    "# add zeros at the end\n",
    "def equalize(array, maxlen, n_features):\n",
    "    length = array.shape[0]\n",
    "    if length < maxlen:\n",
    "        additional = np.array([[0 for i in range(n_features)] for j in range(maxlen - length)])\n",
    "        res = np.concatenate([array, additional])\n",
    "        return res\n",
    "    return array\n",
    "\n",
    "# pad sequence\n",
    "def pad_row(series):\n",
    "    length = max(series.apply(lambda x: len(x)))\n",
    "    n_features = series[0].shape[1]\n",
    "    result = series.apply(lambda x: equalize(x, length, n_features))\n",
    "    return result\n",
    "\n",
    "tmp = pad_row(X_train)\n",
    "X_train = np.stack(tmp.values)\n",
    "print('Vectors are padded')\n",
    "\n",
    "# make a dummy target\n",
    "Y_train = pd.get_dummies(Y_train)\n",
    "\n",
    "print(len(X_train), 'train sequences')"
   ]
  },
  {
   "cell_type": "markdown",
   "metadata": {},
   "source": [
    "### Save the train data to file"
   ]
  },
  {
   "cell_type": "code",
   "execution_count": 13,
   "metadata": {},
   "outputs": [],
   "source": [
    "h5f = h5py.File('train.h5', 'w')\n",
    "h5f.create_dataset('train', data=X_train)\n",
    "h5f.close()\n",
    "\n",
    "h5f = h5py.File('target.h5', 'w')\n",
    "h5f.create_dataset('target', data=Y_train)\n",
    "h5f.close()"
   ]
  },
  {
   "cell_type": "code",
   "execution_count": null,
   "metadata": {},
   "outputs": [],
   "source": []
  }
 ],
 "metadata": {
  "kernelspec": {
   "display_name": "Python 3",
   "language": "python",
   "name": "python3"
  },
  "language_info": {
   "codemirror_mode": {
    "name": "ipython",
    "version": 3
   },
   "file_extension": ".py",
   "mimetype": "text/x-python",
   "name": "python",
   "nbconvert_exporter": "python",
   "pygments_lexer": "ipython3",
   "version": "3.6.3"
  }
 },
 "nbformat": 4,
 "nbformat_minor": 2
}
