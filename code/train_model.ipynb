{
 "cells": [
  {
   "cell_type": "code",
   "execution_count": 1,
   "metadata": {
    "colab": {
     "autoexec": {
      "startup": false,
      "wait_interval": 0
     },
     "base_uri": "https://localhost:8080/",
     "height": 69
    },
    "colab_type": "code",
    "executionInfo": {
     "elapsed": 3749,
     "status": "ok",
     "timestamp": 1529963567335,
     "user": {
      "displayName": "Anton Okhotnikov",
      "photoUrl": "https://lh3.googleusercontent.com/a/default-user=s128",
      "userId": "111886964614144141367"
     },
     "user_tz": -60
    },
    "id": "C5DJuxs9kieY",
    "outputId": "64ecc2a2-e927-43fe-b31b-30905b713e4d"
   },
   "outputs": [
    {
     "name": "stdout",
     "output_type": "stream",
     "text": [
      "Requirement already satisfied: h5py in /usr/local/lib/python3.6/dist-packages (2.8.0)\r\n",
      "Requirement already satisfied: numpy>=1.7 in /usr/local/lib/python3.6/dist-packages (from h5py) (1.14.5)\r\n",
      "Requirement already satisfied: six in /usr/local/lib/python3.6/dist-packages (from h5py) (1.11.0)\r\n"
     ]
    }
   ],
   "source": [
    "# !pip install python_speech_features\n",
    "# !pip install h5py"
   ]
  },
  {
   "cell_type": "markdown",
   "metadata": {},
   "source": [
    "## This notebook was used in Google Colaboratory"
   ]
  },
  {
   "cell_type": "markdown",
   "metadata": {},
   "source": [
    "so it may require some changes to reproduce the results. Nevertheless I've tried to optimise the code for using it on local machine."
   ]
  },
  {
   "cell_type": "markdown",
   "metadata": {
    "colab_type": "text",
    "id": "lKvLuR1Gswd-"
   },
   "source": [
    "### Load libraries"
   ]
  },
  {
   "cell_type": "code",
   "execution_count": 1,
   "metadata": {
    "colab": {
     "autoexec": {
      "startup": false,
      "wait_interval": 0
     },
     "base_uri": "https://localhost:8080/",
     "height": 34
    },
    "colab_type": "code",
    "executionInfo": {
     "elapsed": 2050,
     "status": "ok",
     "timestamp": 1529964454943,
     "user": {
      "displayName": "Anton Okhotnikov",
      "photoUrl": "https://lh3.googleusercontent.com/a/default-user=s128",
      "userId": "111886964614144141367"
     },
     "user_tz": -60
    },
    "id": "ExyISQeeknDz",
    "outputId": "5eac7885-7f03-4009-99c5-0b40262bd4f3"
   },
   "outputs": [
    {
     "name": "stderr",
     "output_type": "stream",
     "text": [
      "Using TensorFlow backend.\n"
     ]
    }
   ],
   "source": [
    "import pandas as pd\n",
    "import numpy as np\n",
    "import os\n",
    "import matplotlib.pyplot as plt\n",
    "from keras.optimizers import SGD\n",
    "from keras.utils import np_utils\n",
    "from keras.models import Sequential\n",
    "from keras.layers.core import Dense, Activation\n",
    "from keras.layers.recurrent import LSTM\n",
    "from keras.layers import Dropout\n",
    "from keras.callbacks import EarlyStopping\n",
    "from keras.layers import Bidirectional\n",
    "import h5py"
   ]
  },
  {
   "cell_type": "markdown",
   "metadata": {
    "colab_type": "text",
    "id": "_PzDN1kfs1S8"
   },
   "source": [
    "### Load data from Drive"
   ]
  },
  {
   "cell_type": "code",
   "execution_count": 1,
   "metadata": {
    "colab": {
     "autoexec": {
      "startup": false,
      "wait_interval": 0
     },
     "base_uri": "https://localhost:8080/",
     "height": 1052
    },
    "colab_type": "code",
    "executionInfo": {
     "elapsed": 29818,
     "status": "error",
     "timestamp": 1529963605478,
     "user": {
      "displayName": "Anton Okhotnikov",
      "photoUrl": "https://lh3.googleusercontent.com/a/default-user=s128",
      "userId": "111886964614144141367"
     },
     "user_tz": -60
    },
    "id": "b1ilMOTskifk",
    "outputId": "87903e28-e03f-4d6e-b213-e4ad50177c6d",
    "scrolled": true
   },
   "outputs": [],
   "source": [
    "# !apt-get install -y -qq software-properties-common python-software-properties module-init-tools\n",
    "# !add-apt-repository -y ppa:alessandro-strada/ppa 2>&1 > /dev/null\n",
    "# !apt-get update -qq 2>&1 > /dev/null\n",
    "# !apt-get -y install -qq google-drive-ocamlfuse fuse\n",
    "\n",
    "# from google.colab import auth\n",
    "# auth.authenticate_user()\n",
    "# from oauth2client.client import GoogleCredentials\n",
    "# creds = GoogleCredentials.get_application_default()\n",
    "# import getpass\n",
    "\n",
    "# !google-drive-ocamlfuse -headless -id={creds.client_id} -secret={creds.client_secret} < /dev/null 2>&1 | grep URL\n",
    "# vcode = getpass.getpass()\n",
    "# !echo {vcode} | google-drive-ocamlfuse -headless -id={creds.client_id} -secret={creds.client_secret}"
   ]
  },
  {
   "cell_type": "code",
   "execution_count": 2,
   "metadata": {
    "colab": {
     "autoexec": {
      "startup": false,
      "wait_interval": 0
     },
     "base_uri": "https://localhost:8080/",
     "height": 17
    },
    "colab_type": "code",
    "executionInfo": {
     "elapsed": 2889,
     "status": "ok",
     "timestamp": 1529961195813,
     "user": {
      "displayName": "Anton Okhotnikov",
      "photoUrl": "https://lh3.googleusercontent.com/a/default-user=s128",
      "userId": "111886964614144141367"
     },
     "user_tz": -60
    },
    "id": "Eu_wHJzK-S27",
    "outputId": "c39a6d16-834d-415e-c9f3-3a9f3ac0a595"
   },
   "outputs": [],
   "source": [
    "# !mkdir -p drive\n",
    "# !google-drive-ocamlfuse drive"
   ]
  },
  {
   "cell_type": "code",
   "execution_count": 3,
   "metadata": {
    "colab": {
     "autoexec": {
      "startup": false,
      "wait_interval": 0
     },
     "base_uri": "https://localhost:8080/",
     "height": 34
    },
    "colab_type": "code",
    "executionInfo": {
     "elapsed": 6269,
     "status": "ok",
     "timestamp": 1529964467095,
     "user": {
      "displayName": "Anton Okhotnikov",
      "photoUrl": "https://lh3.googleusercontent.com/a/default-user=s128",
      "userId": "111886964614144141367"
     },
     "user_tz": -60
    },
    "id": "sV3Ad8p8BDgx",
    "outputId": "5f6a3a8b-bc72-4c98-ebf7-fcb2b4e380c8"
   },
   "outputs": [],
   "source": [
    "# !ls drive/STC_data"
   ]
  },
  {
   "cell_type": "markdown",
   "metadata": {},
   "source": [
    "### Load data locally"
   ]
  },
  {
   "cell_type": "code",
   "execution_count": 3,
   "metadata": {
    "colab": {
     "autoexec": {
      "startup": false,
      "wait_interval": 0
     },
     "base_uri": "https://localhost:8080/",
     "height": 34
    },
    "colab_type": "code",
    "executionInfo": {
     "elapsed": 479,
     "status": "ok",
     "timestamp": 1529964469355,
     "user": {
      "displayName": "Anton Okhotnikov",
      "photoUrl": "https://lh3.googleusercontent.com/a/default-user=s128",
      "userId": "111886964614144141367"
     },
     "user_tz": -60
    },
    "id": "kAtixqzmBt11",
    "outputId": "3d238327-eaf6-41fe-ac3b-8979b9a8294d"
   },
   "outputs": [
    {
     "name": "stdout",
     "output_type": "stream",
     "text": [
      "/content/drive\n"
     ]
    }
   ],
   "source": [
    "path = os.getcwd()\n",
    "print(path)"
   ]
  },
  {
   "cell_type": "markdown",
   "metadata": {
    "colab_type": "text",
    "id": "nAZxtIFmkigF"
   },
   "source": [
    "### Read data"
   ]
  },
  {
   "cell_type": "code",
   "execution_count": 4,
   "metadata": {
    "colab": {
     "autoexec": {
      "startup": false,
      "wait_interval": 0
     },
     "base_uri": "https://localhost:8080/",
     "height": 52
    },
    "colab_type": "code",
    "executionInfo": {
     "elapsed": 500787,
     "status": "ok",
     "timestamp": 1529964981465,
     "user": {
      "displayName": "Anton Okhotnikov",
      "photoUrl": "https://lh3.googleusercontent.com/a/default-user=s128",
      "userId": "111886964614144141367"
     },
     "user_tz": -60
    },
    "id": "hkBJcLzNkigP",
    "outputId": "82278ab3-eef9-4270-83fc-80888bbe21a2"
   },
   "outputs": [
    {
     "name": "stdout",
     "output_type": "stream",
     "text": [
      "Target shape (16241, 8)\n",
      "Train shape (16241, 600, 13)\n"
     ]
    }
   ],
   "source": [
    "h5f = h5py.File(path + '/target.h5','r')\n",
    "Y_train = h5f['target'][:]\n",
    "h5f.close()\n",
    "\n",
    "h5f = h5py.File(path + '/train.h5','r')\n",
    "X_train = h5f['train'][:]\n",
    "h5f.close()\n",
    "\n",
    "print('Target shape', Y_train.shape)\n",
    "print('Train shape', X_train.shape)"
   ]
  },
  {
   "cell_type": "markdown",
   "metadata": {
    "colab_type": "text",
    "id": "fZDGm5HIkink"
   },
   "source": [
    "### Build a bidirectional LSTM classifier"
   ]
  },
  {
   "cell_type": "code",
   "execution_count": 6,
   "metadata": {
    "colab": {
     "autoexec": {
      "startup": false,
      "wait_interval": 0
     },
     "base_uri": "https://localhost:8080/",
     "height": 419
    },
    "colab_type": "code",
    "executionInfo": {
     "elapsed": 3725909,
     "status": "ok",
     "timestamp": 1529970354785,
     "user": {
      "displayName": "Anton Okhotnikov",
      "photoUrl": "https://lh3.googleusercontent.com/a/default-user=s128",
      "userId": "111886964614144141367"
     },
     "user_tz": -60
    },
    "id": "lWy4xYIekinq",
    "outputId": "5812eb83-14ae-45ca-e502-bed54906f37e"
   },
   "outputs": [
    {
     "name": "stdout",
     "output_type": "stream",
     "text": [
      "Build model...\n",
      "Train...\n",
      "Epoch 1/10\n",
      "16241/16241 [==============================] - 371s 23ms/step - loss: 1.2117 - categorical_accuracy: 0.5532\n",
      "Epoch 2/10\n",
      "16241/16241 [==============================] - 370s 23ms/step - loss: 0.8366 - categorical_accuracy: 0.7131\n",
      "Epoch 3/10\n",
      " 9400/16241 [================>.............] - ETA: 2:36 - loss: 0.6551 - categorical_accuracy: 0.777316241/16241 [==============================] - 373s 23ms/step - loss: 0.6320 - categorical_accuracy: 0.7840\n",
      "Epoch 4/10\n",
      "16241/16241 [==============================] - 375s 23ms/step - loss: 0.5281 - categorical_accuracy: 0.8199\n",
      "Epoch 5/10\n",
      "16241/16241 [==============================] - 375s 23ms/step - loss: 0.4640 - categorical_accuracy: 0.8440\n",
      "Epoch 6/10\n",
      "  100/16241 [..............................] - ETA: 6:14 - loss: 0.5042 - categorical_accuracy: 0.820016241/16241 [==============================] - 371s 23ms/step - loss: 0.4169 - categorical_accuracy: 0.8583\n",
      "Epoch 7/10\n",
      "16241/16241 [==============================] - 372s 23ms/step - loss: 0.3872 - categorical_accuracy: 0.8696\n",
      "Epoch 8/10\n",
      "13800/16241 [========================>.....] - ETA: 55s - loss: 0.3503 - categorical_accuracy: 0.884116241/16241 [==============================] - 371s 23ms/step - loss: 0.3511 - categorical_accuracy: 0.8835\n",
      "Epoch 9/10\n",
      "16241/16241 [==============================] - 371s 23ms/step - loss: 0.3471 - categorical_accuracy: 0.8832\n",
      "Epoch 10/10\n",
      "16241/16241 [==============================] - 374s 23ms/step - loss: 0.3134 - categorical_accuracy: 0.8954\n"
     ]
    }
   ],
   "source": [
    "np.random.seed(14)  # fix the random numbers generator state\n",
    "\n",
    "batch_size = 100\n",
    "hidden_units = 80\n",
    "input_shape = X_train.shape[1:]\n",
    "nb_epochs = 10\n",
    "nb_classes = 8\n",
    "dropout = 0.2\n",
    "early_stopping = EarlyStopping(monitor='loss', min_delta=0, patience=0, verbose=1)\n",
    "print('Build model...')\n",
    "\n",
    "# sgd = SGD(lr=0.1, decay=1e-6, momentum=0.9, nesterov=True)\n",
    "\n",
    "model = Sequential()\n",
    "model.add(Bidirectional(LSTM(units=hidden_units, kernel_initializer='uniform', recurrent_initializer='uniform', \n",
    "               dropout=dropout, use_bias=True, unit_forget_bias=True, activation='tanh', recurrent_activation='sigmoid', \n",
    "               input_shape=input_shape), input_shape=input_shape, merge_mode='concat'))\n",
    "model.add(Dense(nb_classes))\n",
    "model.add(Activation('softmax'))\n",
    "model.compile(loss='categorical_crossentropy', metrics=['categorical_accuracy'], optimizer='adam')\n",
    "\n",
    "print(\"Train...\")\n",
    "history = model.fit(X_train, Y_train, batch_size=batch_size, epochs=nb_epochs, verbose=1, callbacks=[early_stopping])"
   ]
  },
  {
   "cell_type": "markdown",
   "metadata": {
    "colab_type": "text",
    "id": "Q3fBo5X3kirZ"
   },
   "source": [
    "### Visualize training"
   ]
  },
  {
   "cell_type": "code",
   "execution_count": 7,
   "metadata": {
    "colab": {
     "autoexec": {
      "startup": false,
      "wait_interval": 0
     },
     "base_uri": "https://localhost:8080/",
     "height": 376
    },
    "colab_type": "code",
    "executionInfo": {
     "elapsed": 714,
     "status": "ok",
     "timestamp": 1529970375078,
     "user": {
      "displayName": "Anton Okhotnikov",
      "photoUrl": "https://lh3.googleusercontent.com/a/default-user=s128",
      "userId": "111886964614144141367"
     },
     "user_tz": -60
    },
    "id": "y_98LmkWkird",
    "outputId": "d2b14e91-a38d-4cd1-f2b3-b3175b62a0f0"
   },
   "outputs": [
    {
     "data": {
      "image/png": "[encoded data removed]",
      "text/plain": [
       "<matplotlib.figure.Figure at 0x7ffb755da438>"
      ]
     },
     "metadata": {
      "tags": []
     },
     "output_type": "display_data"
    }
   ],
   "source": [
    "plt.plot(history.history['loss'])\n",
    "plt.title('model train')\n",
    "plt.ylabel('loss')\n",
    "plt.xlabel('epoch')\n",
    "plt.legend(['train'], loc='upper right')\n",
    "plt.show()"
   ]
  },
  {
   "cell_type": "markdown",
   "metadata": {
    "colab_type": "text",
    "id": "Vmb6sL1Uz1gl"
   },
   "source": [
    "### Save model and weigths"
   ]
  },
  {
   "cell_type": "code",
   "execution_count": 0,
   "metadata": {
    "colab": {
     "autoexec": {
      "startup": false,
      "wait_interval": 0
     }
    },
    "colab_type": "code",
    "id": "fBMal_cckisG"
   },
   "outputs": [],
   "source": [
    "model.save('bidirLSTM.h5')\n",
    "\n",
    "# from google.colab import files\n",
    "# files.download('bidirLSTM.h5')"
   ]
  },
  {
   "cell_type": "code",
   "execution_count": 4,
   "metadata": {
    "colab": {
     "autoexec": {
      "startup": false,
      "wait_interval": 0
     },
     "base_uri": "https://localhost:8080/",
     "height": 34
    },
    "colab_type": "code",
    "executionInfo": {
     "elapsed": 1346,
     "status": "ok",
     "timestamp": 1529971188946,
     "user": {
      "displayName": "Anton Okhotnikov",
      "photoUrl": "https://lh3.googleusercontent.com/a/default-user=s128",
      "userId": "111886964614144141367"
     },
     "user_tz": -60
    },
    "id": "PDeP3BOwYLZW",
    "outputId": "cff21b04-f488-417e-9c1e-50edeaa26ee2"
   },
   "outputs": [],
   "source": [
    "# from google.colab import auth\n",
    "# auth.authenticate_user()\n",
    "# from googleapiclient.discovery import build\n",
    "# drive_service = build('drive', 'v3')\n",
    "\n",
    "# from googleapiclient.http import MediaFileUpload\n",
    "\n",
    "# file_metadata = {\n",
    "#   'name': 'bidirLSTM.h5'\n",
    "# }\n",
    "# media = MediaFileUpload('bidirLSTM.h5',\n",
    "#                         resumable=True)\n",
    "# created = drive_service.files().create(body=file_metadata,\n",
    "#                                        media_body=media,\n",
    "#                                        fields='id').execute()\n",
    "# print('File ID: {}'.format(created.get('id')))"
   ]
  },
  {
   "cell_type": "code",
   "execution_count": 0,
   "metadata": {
    "colab": {
     "autoexec": {
      "startup": false,
      "wait_interval": 0
     }
    },
    "colab_type": "code",
    "id": "9liCfFxWZa9Q"
   },
   "outputs": [],
   "source": []
  }
 ],
 "metadata": {
  "accelerator": "GPU",
  "colab": {
   "default_view": {},
   "name": "train_model.ipynb",
   "provenance": [
    {
     "file_id": "https://github.com/AntonOkhotnikov/STC-task/blob/master/code/read_meta.ipynb",
     "timestamp": 1529789733794
    }
   ],
   "version": "0.3.2",
   "views": {}
  },
  "kernelspec": {
   "display_name": "Python 3",
   "language": "python",
   "name": "python3"
  },
  "language_info": {
   "codemirror_mode": {
    "name": "ipython",
    "version": 3
   },
   "file_extension": ".py",
   "mimetype": "text/x-python",
   "name": "python",
   "nbconvert_exporter": "python",
   "pygments_lexer": "ipython3",
   "version": "3.6.3"
  }
 },
 "nbformat": 4,
 "nbformat_minor": 1
}
