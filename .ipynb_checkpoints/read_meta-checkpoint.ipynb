{
 "cells": [
  {
   "cell_type": "code",
   "execution_count": 1,
   "metadata": {},
   "outputs": [],
   "source": [
    "import pandas as pd\n",
    "import os"
   ]
  },
  {
   "cell_type": "code",
   "execution_count": 12,
   "metadata": {},
   "outputs": [],
   "source": [
    "path = os.getcwd()\n",
    "temp = path.split('/')\n",
    "temp.pop(-1)\n",
    "temp.pop(-1)  # remove it before submission\n",
    "path = '/'.join(temp)\n",
    "filename = '/data_v_7_stc/meta/meta.txt'"
   ]
  },
  {
   "cell_type": "markdown",
   "metadata": {},
   "source": [
    "### Read meta file"
   ]
  },
  {
   "cell_type": "code",
   "execution_count": 19,
   "metadata": {},
   "outputs": [],
   "source": [
    "meta = pd.read_csv(path + filename, sep=\"\\t\", header=None)\n",
    "meta.columns = [\"filename\", \"where\", \"something\", \"length\", \"label\"]"
   ]
  },
  {
   "cell_type": "code",
   "execution_count": 22,
   "metadata": {},
   "outputs": [
    {
     "data": {
      "text/html": [
       "<div>\n",
       "<style scoped>\n",
       "    .dataframe tbody tr th:only-of-type {\n",
       "        vertical-align: middle;\n",
       "    }\n",
       "\n",
       "    .dataframe tbody tr th {\n",
       "        vertical-align: top;\n",
       "    }\n",
       "\n",
       "    .dataframe thead th {\n",
       "        text-align: right;\n",
       "    }\n",
       "</style>\n",
       "<table border=\"1\" class=\"dataframe\">\n",
       "  <thead>\n",
       "    <tr style=\"text-align: right;\">\n",
       "      <th></th>\n",
       "      <th>filename</th>\n",
       "      <th>where</th>\n",
       "      <th>something</th>\n",
       "      <th>length</th>\n",
       "      <th>label</th>\n",
       "    </tr>\n",
       "  </thead>\n",
       "  <tbody>\n",
       "    <tr>\n",
       "      <th>0</th>\n",
       "      <td>background_0001.wav</td>\n",
       "      <td>office</td>\n",
       "      <td>0</td>\n",
       "      <td>9.458500</td>\n",
       "      <td>background</td>\n",
       "    </tr>\n",
       "    <tr>\n",
       "      <th>1</th>\n",
       "      <td>background_0001_time_stretch_0.wav</td>\n",
       "      <td>office</td>\n",
       "      <td>0</td>\n",
       "      <td>9.989070</td>\n",
       "      <td>background</td>\n",
       "    </tr>\n",
       "    <tr>\n",
       "      <th>2</th>\n",
       "      <td>background_0001_time_stretch_1.wav</td>\n",
       "      <td>office</td>\n",
       "      <td>0</td>\n",
       "      <td>9.879410</td>\n",
       "      <td>background</td>\n",
       "    </tr>\n",
       "    <tr>\n",
       "      <th>3</th>\n",
       "      <td>background_0001_time_stretch_10.wav</td>\n",
       "      <td>office</td>\n",
       "      <td>0</td>\n",
       "      <td>11.156553</td>\n",
       "      <td>background</td>\n",
       "    </tr>\n",
       "    <tr>\n",
       "      <th>4</th>\n",
       "      <td>background_0001_time_stretch_11.wav</td>\n",
       "      <td>office</td>\n",
       "      <td>0</td>\n",
       "      <td>13.261587</td>\n",
       "      <td>background</td>\n",
       "    </tr>\n",
       "  </tbody>\n",
       "</table>\n",
       "</div>"
      ],
      "text/plain": [
       "                              filename   where  something     length  \\\n",
       "0                  background_0001.wav  office          0   9.458500   \n",
       "1   background_0001_time_stretch_0.wav  office          0   9.989070   \n",
       "2   background_0001_time_stretch_1.wav  office          0   9.879410   \n",
       "3  background_0001_time_stretch_10.wav  office          0  11.156553   \n",
       "4  background_0001_time_stretch_11.wav  office          0  13.261587   \n",
       "\n",
       "        label  \n",
       "0  background  \n",
       "1  background  \n",
       "2  background  \n",
       "3  background  \n",
       "4  background  "
      ]
     },
     "execution_count": 22,
     "metadata": {},
     "output_type": "execute_result"
    }
   ],
   "source": [
    "meta.head()"
   ]
  },
  {
   "cell_type": "code",
   "execution_count": null,
   "metadata": {},
   "outputs": [],
   "source": []
  }
 ],
 "metadata": {
  "kernelspec": {
   "display_name": "Python 3",
   "language": "python",
   "name": "python3"
  },
  "language_info": {
   "codemirror_mode": {
    "name": "ipython",
    "version": 3
   },
   "file_extension": ".py",
   "mimetype": "text/x-python",
   "name": "python",
   "nbconvert_exporter": "python",
   "pygments_lexer": "ipython3",
   "version": "3.6.5"
  }
 },
 "nbformat": 4,
 "nbformat_minor": 2
}
